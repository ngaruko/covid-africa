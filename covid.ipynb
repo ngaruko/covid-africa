{
 "cells": [
  {
   "cell_type": "markdown",
   "metadata": {},
   "source": [
    "# Digital Mobile on the frontline in the war against Coronavirus. \n",
    "Case of Medic Mobile\n"
   ]
  },
  {
   "cell_type": "markdown",
   "metadata": {},
   "source": [
    "<img src=\"images/africa.png\" alt=\"Drawing\" style=\"width: 200px;\"/>\n"
   ]
  },
  {
   "cell_type": "markdown",
   "metadata": {},
   "source": [
    "# Introduction"
   ]
  },
  {
   "cell_type": "markdown",
   "metadata": {},
   "source": [
    "The year 2020 will be remembered for the most devastating health outbreak since the Spanish flu about 100 years ago: covid-19. To some extent, every country has been affected by the pandemic one way or another and its effect on nations’ healthcare system, economics and general overall welfare are yet to be seen. \n",
    "In this article we will explore how the virus spread across Africa, with a particular focus on countries most affected, the state of affairs at the moment (are things getting any better) and finally the role of digital media in managing the pandemic.\n",
    "The analysis is done using Covid-19  data from the World Health Organization (WHO)  to answer the first two questions; and stories from one of the most active organizations in the digital health space in Africa : Medic Mobile (to answer the third question), at times in collaboration with another big player in the space: Dumagi."
   ]
  },
  {
   "cell_type": "code",
   "execution_count": null,
   "metadata": {},
   "outputs": [],
   "source": []
  },
  {
   "cell_type": "markdown",
   "metadata": {},
   "source": [
    "# 1. Business Understanding¶\n"
   ]
  },
  {
   "cell_type": "markdown",
   "metadata": {},
   "source": [
    "1. What is the state of affairs across Africa\n",
    "2. What are the most affected countries\n",
    "3. What role are digital health platform playing in combating the pandemic"
   ]
  },
  {
   "cell_type": "markdown",
   "metadata": {},
   "source": [
    "# 2. Data Understanding  "
   ]
  },
  {
   "cell_type": "markdown",
   "metadata": {},
   "source": [
    "## Required dependancies.\n",
    "First we import required dependance for data analysis"
   ]
  },
  {
   "cell_type": "code",
   "execution_count": 1,
   "metadata": {},
   "outputs": [],
   "source": [
    "import numpy as np\n",
    "import pandas as pd\n",
    "import matplotlib.pyplot as plt\n",
    "import seaborn as sn\n",
    "import os\n",
    "import urllib\n",
    "#geoplot\n",
    "import chart_studio.plotly as py\n",
    "import plotly.graph_objs as go\n",
    "from plotly.offline import download_plotlyjs,init_notebook_mode,plot, iplot\n",
    "%matplotlib inline "
   ]
  },
  {
   "cell_type": "code",
   "execution_count": 2,
   "metadata": {},
   "outputs": [],
   "source": [
    "# load utility file\n",
    "%run utils.py"
   ]
  },
  {
   "cell_type": "markdown",
   "metadata": {},
   "source": [
    "# Download and save data on disk\n",
    "The data is dowloaded from WHO dashboard and saved to local disk"
   ]
  },
  {
   "cell_type": "code",
   "execution_count": 3,
   "metadata": {},
   "outputs": [],
   "source": [
    "url ='https://covid19.who.int/WHO-COVID-19-global-data.csv'\n",
    "df = load_data(url)"
   ]
  },
  {
   "cell_type": "code",
   "execution_count": null,
   "metadata": {},
   "outputs": [],
   "source": []
  },
  {
   "cell_type": "markdown",
   "metadata": {},
   "source": [
    "# Data Preprocessing"
   ]
  },
  {
   "cell_type": "code",
   "execution_count": null,
   "metadata": {},
   "outputs": [],
   "source": []
  },
  {
   "cell_type": "markdown",
   "metadata": {},
   "source": [
    "Data formatting "
   ]
  },
  {
   "cell_type": "code",
   "execution_count": 4,
   "metadata": {},
   "outputs": [
    {
     "data": {
      "text/html": [
       "<div>\n",
       "<style scoped>\n",
       "    .dataframe tbody tr th:only-of-type {\n",
       "        vertical-align: middle;\n",
       "    }\n",
       "\n",
       "    .dataframe tbody tr th {\n",
       "        vertical-align: top;\n",
       "    }\n",
       "\n",
       "    .dataframe thead th {\n",
       "        text-align: right;\n",
       "    }\n",
       "</style>\n",
       "<table border=\"1\" class=\"dataframe\">\n",
       "  <thead>\n",
       "    <tr style=\"text-align: right;\">\n",
       "      <th></th>\n",
       "      <th>Date_reported</th>\n",
       "      <th>Country_code</th>\n",
       "      <th>Country</th>\n",
       "      <th>WHO_region</th>\n",
       "      <th>New_cases</th>\n",
       "      <th>Cumulative_cases</th>\n",
       "      <th>New_deaths</th>\n",
       "      <th>Cumulative_deaths</th>\n",
       "    </tr>\n",
       "  </thead>\n",
       "  <tbody>\n",
       "    <tr>\n",
       "      <th>0</th>\n",
       "      <td>2020-02-24</td>\n",
       "      <td>AF</td>\n",
       "      <td>Afghanistan</td>\n",
       "      <td>EMRO</td>\n",
       "      <td>5</td>\n",
       "      <td>5</td>\n",
       "      <td>0</td>\n",
       "      <td>0</td>\n",
       "    </tr>\n",
       "    <tr>\n",
       "      <th>1</th>\n",
       "      <td>2020-02-25</td>\n",
       "      <td>AF</td>\n",
       "      <td>Afghanistan</td>\n",
       "      <td>EMRO</td>\n",
       "      <td>0</td>\n",
       "      <td>5</td>\n",
       "      <td>0</td>\n",
       "      <td>0</td>\n",
       "    </tr>\n",
       "    <tr>\n",
       "      <th>2</th>\n",
       "      <td>2020-02-26</td>\n",
       "      <td>AF</td>\n",
       "      <td>Afghanistan</td>\n",
       "      <td>EMRO</td>\n",
       "      <td>0</td>\n",
       "      <td>5</td>\n",
       "      <td>0</td>\n",
       "      <td>0</td>\n",
       "    </tr>\n",
       "    <tr>\n",
       "      <th>3</th>\n",
       "      <td>2020-02-27</td>\n",
       "      <td>AF</td>\n",
       "      <td>Afghanistan</td>\n",
       "      <td>EMRO</td>\n",
       "      <td>0</td>\n",
       "      <td>5</td>\n",
       "      <td>0</td>\n",
       "      <td>0</td>\n",
       "    </tr>\n",
       "    <tr>\n",
       "      <th>4</th>\n",
       "      <td>2020-02-28</td>\n",
       "      <td>AF</td>\n",
       "      <td>Afghanistan</td>\n",
       "      <td>EMRO</td>\n",
       "      <td>0</td>\n",
       "      <td>5</td>\n",
       "      <td>0</td>\n",
       "      <td>0</td>\n",
       "    </tr>\n",
       "  </tbody>\n",
       "</table>\n",
       "</div>"
      ],
      "text/plain": [
       "  Date_reported  Country_code      Country  WHO_region   New_cases  \\\n",
       "0    2020-02-24            AF  Afghanistan        EMRO           5   \n",
       "1    2020-02-25            AF  Afghanistan        EMRO           0   \n",
       "2    2020-02-26            AF  Afghanistan        EMRO           0   \n",
       "3    2020-02-27            AF  Afghanistan        EMRO           0   \n",
       "4    2020-02-28            AF  Afghanistan        EMRO           0   \n",
       "\n",
       "    Cumulative_cases   New_deaths   Cumulative_deaths  \n",
       "0                  5            0                   0  \n",
       "1                  5            0                   0  \n",
       "2                  5            0                   0  \n",
       "3                  5            0                   0  \n",
       "4                  5            0                   0  "
      ]
     },
     "execution_count": 4,
     "metadata": {},
     "output_type": "execute_result"
    }
   ],
   "source": [
    "#Quick look at data format \n",
    "df.head()"
   ]
  },
  {
   "cell_type": "code",
   "execution_count": 5,
   "metadata": {},
   "outputs": [
    {
     "data": {
      "text/plain": [
       "Index(['Date_reported', ' Country_code', ' Country', ' WHO_region',\n",
       "       ' New_cases', ' Cumulative_cases', ' New_deaths', ' Cumulative_deaths'],\n",
       "      dtype='object')"
      ]
     },
     "execution_count": 5,
     "metadata": {},
     "output_type": "execute_result"
    }
   ],
   "source": [
    "#Quick look at features\n",
    "df.columns"
   ]
  },
  {
   "cell_type": "code",
   "execution_count": 6,
   "metadata": {},
   "outputs": [
    {
     "data": {
      "text/plain": [
       "Index(['Date_reported', 'Country_code', 'Country', 'WHO_region', 'New_cases',\n",
       "       'Cumulative_cases', 'New_deaths', 'Cumulative_deaths'],\n",
       "      dtype='object')"
      ]
     },
     "execution_count": 6,
     "metadata": {},
     "output_type": "execute_result"
    }
   ],
   "source": [
    "# There seem to be white space in some columns (all except first one) - let's get read of them\n",
    "remove_white_spaces(df)\n",
    "df.columns  "
   ]
  },
  {
   "cell_type": "code",
   "execution_count": null,
   "metadata": {},
   "outputs": [],
   "source": [
    "\n"
   ]
  },
  {
   "cell_type": "markdown",
   "metadata": {},
   "source": [
    "Missing values"
   ]
  },
  {
   "cell_type": "code",
   "execution_count": 7,
   "metadata": {},
   "outputs": [
    {
     "data": {
      "text/plain": [
       "Date_reported          0\n",
       "Country_code         163\n",
       "Country                0\n",
       "WHO_region             0\n",
       "New_cases              0\n",
       "Cumulative_cases       0\n",
       "New_deaths             0\n",
       "Cumulative_deaths      0\n",
       "dtype: int64"
      ]
     },
     "execution_count": 7,
     "metadata": {},
     "output_type": "execute_result"
    }
   ],
   "source": [
    "#Let us look if there are null vlaues in the dataset\n",
    "df.isnull().sum()"
   ]
  },
  {
   "cell_type": "code",
   "execution_count": 8,
   "metadata": {},
   "outputs": [],
   "source": [
    "#Since 'Country_code' is not very importnat \n",
    "#for our analysis (we have country column already), we can drop the columns altogether \n",
    "df.drop('Country_code', axis=1, inplace=True)"
   ]
  },
  {
   "cell_type": "markdown",
   "metadata": {},
   "source": [
    "Feature engineering"
   ]
  },
  {
   "cell_type": "code",
   "execution_count": 9,
   "metadata": {},
   "outputs": [],
   "source": [
    "# We might find it useful to analyse monthly/yearly stats\n",
    "#So let's format the date feature to allow for this \n",
    "feature_engineer_dates(df, 'Date_reported')"
   ]
  },
  {
   "cell_type": "code",
   "execution_count": 10,
   "metadata": {},
   "outputs": [
    {
     "data": {
      "text/html": [
       "<div>\n",
       "<style scoped>\n",
       "    .dataframe tbody tr th:only-of-type {\n",
       "        vertical-align: middle;\n",
       "    }\n",
       "\n",
       "    .dataframe tbody tr th {\n",
       "        vertical-align: top;\n",
       "    }\n",
       "\n",
       "    .dataframe thead th {\n",
       "        text-align: right;\n",
       "    }\n",
       "</style>\n",
       "<table border=\"1\" class=\"dataframe\">\n",
       "  <thead>\n",
       "    <tr style=\"text-align: right;\">\n",
       "      <th></th>\n",
       "      <th>Date_reported</th>\n",
       "      <th>Country</th>\n",
       "      <th>WHO_region</th>\n",
       "      <th>New_cases</th>\n",
       "      <th>Cumulative_cases</th>\n",
       "      <th>New_deaths</th>\n",
       "      <th>Cumulative_deaths</th>\n",
       "      <th>month</th>\n",
       "      <th>year</th>\n",
       "    </tr>\n",
       "  </thead>\n",
       "  <tbody>\n",
       "    <tr>\n",
       "      <th>36836</th>\n",
       "      <td>2020-08-19</td>\n",
       "      <td>Zimbabwe</td>\n",
       "      <td>AFRO</td>\n",
       "      <td>70</td>\n",
       "      <td>5378</td>\n",
       "      <td>6</td>\n",
       "      <td>141</td>\n",
       "      <td>8</td>\n",
       "      <td>2020</td>\n",
       "    </tr>\n",
       "    <tr>\n",
       "      <th>36837</th>\n",
       "      <td>2020-08-20</td>\n",
       "      <td>Zimbabwe</td>\n",
       "      <td>AFRO</td>\n",
       "      <td>265</td>\n",
       "      <td>5643</td>\n",
       "      <td>9</td>\n",
       "      <td>150</td>\n",
       "      <td>8</td>\n",
       "      <td>2020</td>\n",
       "    </tr>\n",
       "    <tr>\n",
       "      <th>36838</th>\n",
       "      <td>2020-08-21</td>\n",
       "      <td>Zimbabwe</td>\n",
       "      <td>AFRO</td>\n",
       "      <td>102</td>\n",
       "      <td>5745</td>\n",
       "      <td>1</td>\n",
       "      <td>151</td>\n",
       "      <td>8</td>\n",
       "      <td>2020</td>\n",
       "    </tr>\n",
       "    <tr>\n",
       "      <th>36839</th>\n",
       "      <td>2020-08-22</td>\n",
       "      <td>Zimbabwe</td>\n",
       "      <td>AFRO</td>\n",
       "      <td>70</td>\n",
       "      <td>5815</td>\n",
       "      <td>1</td>\n",
       "      <td>152</td>\n",
       "      <td>8</td>\n",
       "      <td>2020</td>\n",
       "    </tr>\n",
       "    <tr>\n",
       "      <th>36840</th>\n",
       "      <td>2020-08-23</td>\n",
       "      <td>Zimbabwe</td>\n",
       "      <td>AFRO</td>\n",
       "      <td>78</td>\n",
       "      <td>5893</td>\n",
       "      <td>1</td>\n",
       "      <td>153</td>\n",
       "      <td>8</td>\n",
       "      <td>2020</td>\n",
       "    </tr>\n",
       "  </tbody>\n",
       "</table>\n",
       "</div>"
      ],
      "text/plain": [
       "      Date_reported   Country WHO_region  New_cases  Cumulative_cases  \\\n",
       "36836    2020-08-19  Zimbabwe       AFRO         70              5378   \n",
       "36837    2020-08-20  Zimbabwe       AFRO        265              5643   \n",
       "36838    2020-08-21  Zimbabwe       AFRO        102              5745   \n",
       "36839    2020-08-22  Zimbabwe       AFRO         70              5815   \n",
       "36840    2020-08-23  Zimbabwe       AFRO         78              5893   \n",
       "\n",
       "       New_deaths  Cumulative_deaths  month  year  \n",
       "36836           6                141      8  2020  \n",
       "36837           9                150      8  2020  \n",
       "36838           1                151      8  2020  \n",
       "36839           1                152      8  2020  \n",
       "36840           1                153      8  2020  "
      ]
     },
     "execution_count": 10,
     "metadata": {},
     "output_type": "execute_result"
    }
   ],
   "source": [
    "#Check new features\n",
    "df.tail()"
   ]
  },
  {
   "cell_type": "markdown",
   "metadata": {},
   "source": [
    "# Exploratory data analysis "
   ]
  },
  {
   "cell_type": "markdown",
   "metadata": {},
   "source": [
    "Useful data subset"
   ]
  },
  {
   "cell_type": "code",
   "execution_count": 11,
   "metadata": {},
   "outputs": [
    {
     "data": {
      "text/html": [
       "<div>\n",
       "<style scoped>\n",
       "    .dataframe tbody tr th:only-of-type {\n",
       "        vertical-align: middle;\n",
       "    }\n",
       "\n",
       "    .dataframe tbody tr th {\n",
       "        vertical-align: top;\n",
       "    }\n",
       "\n",
       "    .dataframe thead th {\n",
       "        text-align: right;\n",
       "    }\n",
       "</style>\n",
       "<table border=\"1\" class=\"dataframe\">\n",
       "  <thead>\n",
       "    <tr style=\"text-align: right;\">\n",
       "      <th></th>\n",
       "      <th>Date_reported</th>\n",
       "      <th>Country</th>\n",
       "      <th>WHO_region</th>\n",
       "      <th>New_cases</th>\n",
       "      <th>Cumulative_cases</th>\n",
       "      <th>New_deaths</th>\n",
       "      <th>Cumulative_deaths</th>\n",
       "      <th>month</th>\n",
       "      <th>year</th>\n",
       "    </tr>\n",
       "  </thead>\n",
       "  <tbody>\n",
       "    <tr>\n",
       "      <th>350</th>\n",
       "      <td>2020-02-25</td>\n",
       "      <td>Algeria</td>\n",
       "      <td>AFRO</td>\n",
       "      <td>5</td>\n",
       "      <td>5</td>\n",
       "      <td>0</td>\n",
       "      <td>0</td>\n",
       "      <td>2</td>\n",
       "      <td>2020</td>\n",
       "    </tr>\n",
       "    <tr>\n",
       "      <th>351</th>\n",
       "      <td>2020-02-26</td>\n",
       "      <td>Algeria</td>\n",
       "      <td>AFRO</td>\n",
       "      <td>0</td>\n",
       "      <td>5</td>\n",
       "      <td>0</td>\n",
       "      <td>0</td>\n",
       "      <td>2</td>\n",
       "      <td>2020</td>\n",
       "    </tr>\n",
       "    <tr>\n",
       "      <th>352</th>\n",
       "      <td>2020-02-27</td>\n",
       "      <td>Algeria</td>\n",
       "      <td>AFRO</td>\n",
       "      <td>0</td>\n",
       "      <td>5</td>\n",
       "      <td>0</td>\n",
       "      <td>0</td>\n",
       "      <td>2</td>\n",
       "      <td>2020</td>\n",
       "    </tr>\n",
       "    <tr>\n",
       "      <th>353</th>\n",
       "      <td>2020-02-28</td>\n",
       "      <td>Algeria</td>\n",
       "      <td>AFRO</td>\n",
       "      <td>0</td>\n",
       "      <td>5</td>\n",
       "      <td>0</td>\n",
       "      <td>0</td>\n",
       "      <td>2</td>\n",
       "      <td>2020</td>\n",
       "    </tr>\n",
       "    <tr>\n",
       "      <th>354</th>\n",
       "      <td>2020-02-29</td>\n",
       "      <td>Algeria</td>\n",
       "      <td>AFRO</td>\n",
       "      <td>0</td>\n",
       "      <td>5</td>\n",
       "      <td>0</td>\n",
       "      <td>0</td>\n",
       "      <td>2</td>\n",
       "      <td>2020</td>\n",
       "    </tr>\n",
       "  </tbody>\n",
       "</table>\n",
       "</div>"
      ],
      "text/plain": [
       "    Date_reported  Country WHO_region  New_cases  Cumulative_cases  \\\n",
       "350    2020-02-25  Algeria       AFRO          5                 5   \n",
       "351    2020-02-26  Algeria       AFRO          0                 5   \n",
       "352    2020-02-27  Algeria       AFRO          0                 5   \n",
       "353    2020-02-28  Algeria       AFRO          0                 5   \n",
       "354    2020-02-29  Algeria       AFRO          0                 5   \n",
       "\n",
       "     New_deaths  Cumulative_deaths  month  year  \n",
       "350           0                  0      2  2020  \n",
       "351           0                  0      2  2020  \n",
       "352           0                  0      2  2020  \n",
       "353           0                  0      2  2020  \n",
       "354           0                  0      2  2020  "
      ]
     },
     "execution_count": 11,
     "metadata": {},
     "output_type": "execute_result"
    }
   ],
   "source": [
    "#Since we are interested in countries in the 'AFRO' region, lets just select that\n",
    "df_africa = df[df.WHO_region == 'AFRO']\n",
    "df_africa.head()"
   ]
  },
  {
   "cell_type": "code",
   "execution_count": 12,
   "metadata": {},
   "outputs": [
    {
     "data": {
      "text/plain": [
       "array(['Algeria', 'Angola', 'Benin', 'Botswana', 'Burkina Faso',\n",
       "       'Burundi', 'Cabo Verde', 'Cameroon', 'Central African Republic',\n",
       "       'Chad', 'Comoros', 'Congo', 'Côte d’Ivoire',\n",
       "       'Democratic Republic of the Congo', 'Equatorial Guinea', 'Eritrea',\n",
       "       'Eswatini', 'Ethiopia', 'Gabon', 'Gambia', 'Ghana', 'Guinea',\n",
       "       'Guinea-Bissau', 'Kenya', 'Lesotho', 'Liberia', 'Madagascar',\n",
       "       'Malawi', 'Mali', 'Mauritania', 'Mauritius', 'Mayotte',\n",
       "       'Mozambique', 'Namibia', 'Niger', 'Nigeria', 'Réunion', 'Rwanda',\n",
       "       'Sao Tome and Principe', 'Senegal', 'Seychelles', 'Sierra Leone',\n",
       "       'South Africa', 'South Sudan', 'Togo', 'Uganda',\n",
       "       'United Republic of Tanzania', 'Zambia', 'Zimbabwe'], dtype=object)"
      ]
     },
     "execution_count": 12,
     "metadata": {},
     "output_type": "execute_result"
    }
   ],
   "source": [
    "#let us have a look at countries names for consistency \n",
    "df_africa.Country.unique()\n"
   ]
  },
  {
   "cell_type": "code",
   "execution_count": 13,
   "metadata": {},
   "outputs": [
    {
     "data": {
      "text/plain": [
       "array(['Algeria', 'Angola', 'Benin', 'Botswana', 'Burkina Faso',\n",
       "       'Burundi', 'Cabo Verde', 'Cameroon', 'Central African Republic',\n",
       "       'Chad', 'Comoros', 'Congo', 'Côte d’Ivoire',\n",
       "       'Democratic Republic of the Congo', 'Equatorial Guinea', 'Eritrea',\n",
       "       'Eswatini', 'Ethiopia', 'Gabon', 'Gambia', 'Ghana', 'Guinea',\n",
       "       'Guinea-Bissau', 'Kenya', 'Lesotho', 'Liberia', 'Madagascar',\n",
       "       'Malawi', 'Mali', 'Mauritania', 'Mauritius', 'Mayotte',\n",
       "       'Mozambique', 'Namibia', 'Niger', 'Nigeria', 'Réunion', 'Rwanda',\n",
       "       'Sao Tome and Principe', 'Senegal', 'Seychelles', 'Sierra Leone',\n",
       "       'South Africa', 'South Sudan', 'Togo', 'Uganda',\n",
       "       'United Republic of Tanzania', 'Zambia', 'Zimbabwe'], dtype=object)"
      ]
     },
     "execution_count": 13,
     "metadata": {},
     "output_type": "execute_result"
    }
   ],
   "source": [
    "#'Côte d’Ivoire' is reported with a French name. Let us replace it with English name for consistency \n",
    "rename_country(df,\"Côte d’Ivoire\", \"Ivory Coast\")\n",
    "df_africa.Country.unique()"
   ]
  },
  {
   "cell_type": "markdown",
   "metadata": {},
   "source": [
    "## 1. What's the state of affairs with regard to covid-19 in Africa ?"
   ]
  },
  {
   "cell_type": "markdown",
   "metadata": {},
   "source": [
    "### Data visualization\n"
   ]
  },
  {
   "cell_type": "code",
   "execution_count": 14,
   "metadata": {},
   "outputs": [
    {
     "data": {
      "text/html": [
       "<div>\n",
       "<style scoped>\n",
       "    .dataframe tbody tr th:only-of-type {\n",
       "        vertical-align: middle;\n",
       "    }\n",
       "\n",
       "    .dataframe tbody tr th {\n",
       "        vertical-align: top;\n",
       "    }\n",
       "\n",
       "    .dataframe thead th {\n",
       "        text-align: right;\n",
       "    }\n",
       "</style>\n",
       "<table border=\"1\" class=\"dataframe\">\n",
       "  <thead>\n",
       "    <tr style=\"text-align: right;\">\n",
       "      <th></th>\n",
       "      <th>Date_reported</th>\n",
       "      <th>Country</th>\n",
       "      <th>WHO_region</th>\n",
       "      <th>New_cases</th>\n",
       "      <th>Cumulative_cases</th>\n",
       "      <th>New_deaths</th>\n",
       "      <th>Cumulative_deaths</th>\n",
       "      <th>month</th>\n",
       "      <th>year</th>\n",
       "    </tr>\n",
       "  </thead>\n",
       "  <tbody>\n",
       "    <tr>\n",
       "      <th>530</th>\n",
       "      <td>2020-08-23</td>\n",
       "      <td>Algeria</td>\n",
       "      <td>AFRO</td>\n",
       "      <td>810</td>\n",
       "      <td>41068</td>\n",
       "      <td>13</td>\n",
       "      <td>1424</td>\n",
       "      <td>8</td>\n",
       "      <td>2020</td>\n",
       "    </tr>\n",
       "    <tr>\n",
       "      <th>860</th>\n",
       "      <td>2020-08-23</td>\n",
       "      <td>Angola</td>\n",
       "      <td>AFRO</td>\n",
       "      <td>66</td>\n",
       "      <td>2134</td>\n",
       "      <td>0</td>\n",
       "      <td>94</td>\n",
       "      <td>8</td>\n",
       "      <td>2020</td>\n",
       "    </tr>\n",
       "    <tr>\n",
       "      <th>3616</th>\n",
       "      <td>2020-08-23</td>\n",
       "      <td>Benin</td>\n",
       "      <td>AFRO</td>\n",
       "      <td>0</td>\n",
       "      <td>2115</td>\n",
       "      <td>0</td>\n",
       "      <td>39</td>\n",
       "      <td>8</td>\n",
       "      <td>2020</td>\n",
       "    </tr>\n",
       "    <tr>\n",
       "      <th>4571</th>\n",
       "      <td>2020-08-23</td>\n",
       "      <td>Botswana</td>\n",
       "      <td>AFRO</td>\n",
       "      <td>0</td>\n",
       "      <td>1308</td>\n",
       "      <td>0</td>\n",
       "      <td>3</td>\n",
       "      <td>8</td>\n",
       "      <td>2020</td>\n",
       "    </tr>\n",
       "    <tr>\n",
       "      <th>5404</th>\n",
       "      <td>2020-08-23</td>\n",
       "      <td>Burkina Faso</td>\n",
       "      <td>AFRO</td>\n",
       "      <td>0</td>\n",
       "      <td>1297</td>\n",
       "      <td>0</td>\n",
       "      <td>55</td>\n",
       "      <td>8</td>\n",
       "      <td>2020</td>\n",
       "    </tr>\n",
       "  </tbody>\n",
       "</table>\n",
       "</div>"
      ],
      "text/plain": [
       "     Date_reported       Country WHO_region  New_cases  Cumulative_cases  \\\n",
       "530     2020-08-23       Algeria       AFRO        810             41068   \n",
       "860     2020-08-23        Angola       AFRO         66              2134   \n",
       "3616    2020-08-23         Benin       AFRO          0              2115   \n",
       "4571    2020-08-23      Botswana       AFRO          0              1308   \n",
       "5404    2020-08-23  Burkina Faso       AFRO          0              1297   \n",
       "\n",
       "      New_deaths  Cumulative_deaths  month  year  \n",
       "530           13               1424      8  2020  \n",
       "860            0                 94      8  2020  \n",
       "3616           0                 39      8  2020  \n",
       "4571           0                  3      8  2020  \n",
       "5404           0                 55      8  2020  "
      ]
     },
     "execution_count": 14,
     "metadata": {},
     "output_type": "execute_result"
    }
   ],
   "source": [
    "#Let's get yesterday's data = => latest \n",
    "df_africa_latest = select_latest_data(df_africa)\n",
    "df_africa_latest.head()"
   ]
  },
  {
   "cell_type": "markdown",
   "metadata": {},
   "source": [
    "Data Visualization on map"
   ]
  },
  {
   "cell_type": "code",
   "execution_count": 15,
   "metadata": {},
   "outputs": [],
   "source": [
    "visualize_on_map(df_africa_latest,'africa','covid-map.html')"
   ]
  },
  {
   "cell_type": "code",
   "execution_count": null,
   "metadata": {},
   "outputs": [],
   "source": []
  },
  {
   "cell_type": "markdown",
   "metadata": {},
   "source": [
    "# Data Modeling "
   ]
  },
  {
   "cell_type": "markdown",
   "metadata": {},
   "source": [
    "## 2. Which countries have most cases?"
   ]
  },
  {
   "cell_type": "code",
   "execution_count": 16,
   "metadata": {},
   "outputs": [
    {
     "data": {
      "text/html": [
       "<div>\n",
       "<style scoped>\n",
       "    .dataframe tbody tr th:only-of-type {\n",
       "        vertical-align: middle;\n",
       "    }\n",
       "\n",
       "    .dataframe tbody tr th {\n",
       "        vertical-align: top;\n",
       "    }\n",
       "\n",
       "    .dataframe thead th {\n",
       "        text-align: right;\n",
       "    }\n",
       "</style>\n",
       "<table border=\"1\" class=\"dataframe\">\n",
       "  <thead>\n",
       "    <tr style=\"text-align: right;\">\n",
       "      <th></th>\n",
       "      <th>Date_reported</th>\n",
       "      <th>Country</th>\n",
       "      <th>WHO_region</th>\n",
       "      <th>New_cases</th>\n",
       "      <th>Cumulative_cases</th>\n",
       "      <th>New_deaths</th>\n",
       "      <th>Cumulative_deaths</th>\n",
       "      <th>month</th>\n",
       "      <th>year</th>\n",
       "    </tr>\n",
       "  </thead>\n",
       "  <tbody>\n",
       "    <tr>\n",
       "      <th>31660</th>\n",
       "      <td>2020-08-23</td>\n",
       "      <td>South Africa</td>\n",
       "      <td>AFRO</td>\n",
       "      <td>3707</td>\n",
       "      <td>607045</td>\n",
       "      <td>144</td>\n",
       "      <td>12987</td>\n",
       "      <td>8</td>\n",
       "      <td>2020</td>\n",
       "    </tr>\n",
       "    <tr>\n",
       "      <th>24598</th>\n",
       "      <td>2020-08-23</td>\n",
       "      <td>Nigeria</td>\n",
       "      <td>AFRO</td>\n",
       "      <td>601</td>\n",
       "      <td>51905</td>\n",
       "      <td>1</td>\n",
       "      <td>997</td>\n",
       "      <td>8</td>\n",
       "      <td>2020</td>\n",
       "    </tr>\n",
       "    <tr>\n",
       "      <th>13105</th>\n",
       "      <td>2020-08-23</td>\n",
       "      <td>Ghana</td>\n",
       "      <td>AFRO</td>\n",
       "      <td>0</td>\n",
       "      <td>43325</td>\n",
       "      <td>0</td>\n",
       "      <td>261</td>\n",
       "      <td>8</td>\n",
       "      <td>2020</td>\n",
       "    </tr>\n",
       "    <tr>\n",
       "      <th>530</th>\n",
       "      <td>2020-08-23</td>\n",
       "      <td>Algeria</td>\n",
       "      <td>AFRO</td>\n",
       "      <td>810</td>\n",
       "      <td>41068</td>\n",
       "      <td>13</td>\n",
       "      <td>1424</td>\n",
       "      <td>8</td>\n",
       "      <td>2020</td>\n",
       "    </tr>\n",
       "    <tr>\n",
       "      <th>11005</th>\n",
       "      <td>2020-08-23</td>\n",
       "      <td>Ethiopia</td>\n",
       "      <td>AFRO</td>\n",
       "      <td>1368</td>\n",
       "      <td>39033</td>\n",
       "      <td>25</td>\n",
       "      <td>662</td>\n",
       "      <td>8</td>\n",
       "      <td>2020</td>\n",
       "    </tr>\n",
       "    <tr>\n",
       "      <th>18276</th>\n",
       "      <td>2020-08-23</td>\n",
       "      <td>Kenya</td>\n",
       "      <td>AFRO</td>\n",
       "      <td>355</td>\n",
       "      <td>32118</td>\n",
       "      <td>10</td>\n",
       "      <td>542</td>\n",
       "      <td>8</td>\n",
       "      <td>2020</td>\n",
       "    </tr>\n",
       "    <tr>\n",
       "      <th>6087</th>\n",
       "      <td>2020-08-23</td>\n",
       "      <td>Cameroon</td>\n",
       "      <td>AFRO</td>\n",
       "      <td>0</td>\n",
       "      <td>18762</td>\n",
       "      <td>0</td>\n",
       "      <td>408</td>\n",
       "      <td>8</td>\n",
       "      <td>2020</td>\n",
       "    </tr>\n",
       "    <tr>\n",
       "      <th>7972</th>\n",
       "      <td>2020-08-23</td>\n",
       "      <td>Côte d’Ivoire</td>\n",
       "      <td>AFRO</td>\n",
       "      <td>64</td>\n",
       "      <td>17374</td>\n",
       "      <td>1</td>\n",
       "      <td>113</td>\n",
       "      <td>8</td>\n",
       "      <td>2020</td>\n",
       "    </tr>\n",
       "    <tr>\n",
       "      <th>20390</th>\n",
       "      <td>2020-08-23</td>\n",
       "      <td>Madagascar</td>\n",
       "      <td>AFRO</td>\n",
       "      <td>59</td>\n",
       "      <td>14277</td>\n",
       "      <td>0</td>\n",
       "      <td>178</td>\n",
       "      <td>8</td>\n",
       "      <td>2020</td>\n",
       "    </tr>\n",
       "    <tr>\n",
       "      <th>30132</th>\n",
       "      <td>2020-08-23</td>\n",
       "      <td>Senegal</td>\n",
       "      <td>AFRO</td>\n",
       "      <td>161</td>\n",
       "      <td>12850</td>\n",
       "      <td>4</td>\n",
       "      <td>266</td>\n",
       "      <td>8</td>\n",
       "      <td>2020</td>\n",
       "    </tr>\n",
       "  </tbody>\n",
       "</table>\n",
       "</div>"
      ],
      "text/plain": [
       "      Date_reported        Country WHO_region  New_cases  Cumulative_cases  \\\n",
       "31660    2020-08-23   South Africa       AFRO       3707            607045   \n",
       "24598    2020-08-23        Nigeria       AFRO        601             51905   \n",
       "13105    2020-08-23          Ghana       AFRO          0             43325   \n",
       "530      2020-08-23        Algeria       AFRO        810             41068   \n",
       "11005    2020-08-23       Ethiopia       AFRO       1368             39033   \n",
       "18276    2020-08-23          Kenya       AFRO        355             32118   \n",
       "6087     2020-08-23       Cameroon       AFRO          0             18762   \n",
       "7972     2020-08-23  Côte d’Ivoire       AFRO         64             17374   \n",
       "20390    2020-08-23     Madagascar       AFRO         59             14277   \n",
       "30132    2020-08-23        Senegal       AFRO        161             12850   \n",
       "\n",
       "       New_deaths  Cumulative_deaths  month  year  \n",
       "31660         144              12987      8  2020  \n",
       "24598           1                997      8  2020  \n",
       "13105           0                261      8  2020  \n",
       "530            13               1424      8  2020  \n",
       "11005          25                662      8  2020  \n",
       "18276          10                542      8  2020  \n",
       "6087            0                408      8  2020  \n",
       "7972            1                113      8  2020  \n",
       "20390           0                178      8  2020  \n",
       "30132           4                266      8  2020  "
      ]
     },
     "execution_count": 16,
     "metadata": {},
     "output_type": "execute_result"
    }
   ],
   "source": [
    "%run utils.py \n",
    "sorted = sort_by_stats(df_africa_latest, 'Cumulative_cases', False)\n",
    "top10 = sorted.head(10)\n",
    "top10\n"
   ]
  },
  {
   "cell_type": "markdown",
   "metadata": {},
   "source": [
    "# Countries with least cases"
   ]
  },
  {
   "cell_type": "code",
   "execution_count": 17,
   "metadata": {},
   "outputs": [
    {
     "data": {
      "text/html": [
       "<div>\n",
       "<style scoped>\n",
       "    .dataframe tbody tr th:only-of-type {\n",
       "        vertical-align: middle;\n",
       "    }\n",
       "\n",
       "    .dataframe tbody tr th {\n",
       "        vertical-align: top;\n",
       "    }\n",
       "\n",
       "    .dataframe thead th {\n",
       "        text-align: right;\n",
       "    }\n",
       "</style>\n",
       "<table border=\"1\" class=\"dataframe\">\n",
       "  <thead>\n",
       "    <tr style=\"text-align: right;\">\n",
       "      <th></th>\n",
       "      <th>Date_reported</th>\n",
       "      <th>Country</th>\n",
       "      <th>WHO_region</th>\n",
       "      <th>New_cases</th>\n",
       "      <th>Cumulative_cases</th>\n",
       "      <th>New_deaths</th>\n",
       "      <th>Cumulative_deaths</th>\n",
       "      <th>month</th>\n",
       "      <th>year</th>\n",
       "    </tr>\n",
       "  </thead>\n",
       "  <tbody>\n",
       "    <tr>\n",
       "      <th>27951</th>\n",
       "      <td>2020-08-23</td>\n",
       "      <td>Réunion</td>\n",
       "      <td>AFRO</td>\n",
       "      <td>42</td>\n",
       "      <td>1117</td>\n",
       "      <td>1</td>\n",
       "      <td>6</td>\n",
       "      <td>8</td>\n",
       "      <td>2020</td>\n",
       "    </tr>\n",
       "    <tr>\n",
       "      <th>19396</th>\n",
       "      <td>2020-08-23</td>\n",
       "      <td>Lesotho</td>\n",
       "      <td>AFRO</td>\n",
       "      <td>0</td>\n",
       "      <td>1015</td>\n",
       "      <td>0</td>\n",
       "      <td>30</td>\n",
       "      <td>8</td>\n",
       "      <td>2020</td>\n",
       "    </tr>\n",
       "    <tr>\n",
       "      <th>6783</th>\n",
       "      <td>2020-08-23</td>\n",
       "      <td>Chad</td>\n",
       "      <td>AFRO</td>\n",
       "      <td>1</td>\n",
       "      <td>982</td>\n",
       "      <td>0</td>\n",
       "      <td>76</td>\n",
       "      <td>8</td>\n",
       "      <td>2020</td>\n",
       "    </tr>\n",
       "    <tr>\n",
       "      <th>29782</th>\n",
       "      <td>2020-08-23</td>\n",
       "      <td>Sao Tome and Principe</td>\n",
       "      <td>AFRO</td>\n",
       "      <td>1</td>\n",
       "      <td>892</td>\n",
       "      <td>0</td>\n",
       "      <td>15</td>\n",
       "      <td>8</td>\n",
       "      <td>2020</td>\n",
       "    </tr>\n",
       "    <tr>\n",
       "      <th>35308</th>\n",
       "      <td>2020-08-23</td>\n",
       "      <td>United Republic of Tanzania</td>\n",
       "      <td>AFRO</td>\n",
       "      <td>0</td>\n",
       "      <td>509</td>\n",
       "      <td>0</td>\n",
       "      <td>21</td>\n",
       "      <td>8</td>\n",
       "      <td>2020</td>\n",
       "    </tr>\n",
       "    <tr>\n",
       "      <th>5549</th>\n",
       "      <td>2020-08-23</td>\n",
       "      <td>Burundi</td>\n",
       "      <td>AFRO</td>\n",
       "      <td>1</td>\n",
       "      <td>430</td>\n",
       "      <td>0</td>\n",
       "      <td>1</td>\n",
       "      <td>8</td>\n",
       "      <td>2020</td>\n",
       "    </tr>\n",
       "    <tr>\n",
       "      <th>7476</th>\n",
       "      <td>2020-08-23</td>\n",
       "      <td>Comoros</td>\n",
       "      <td>AFRO</td>\n",
       "      <td>11</td>\n",
       "      <td>417</td>\n",
       "      <td>0</td>\n",
       "      <td>7</td>\n",
       "      <td>8</td>\n",
       "      <td>2020</td>\n",
       "    </tr>\n",
       "    <tr>\n",
       "      <th>21728</th>\n",
       "      <td>2020-08-23</td>\n",
       "      <td>Mauritius</td>\n",
       "      <td>AFRO</td>\n",
       "      <td>0</td>\n",
       "      <td>346</td>\n",
       "      <td>0</td>\n",
       "      <td>10</td>\n",
       "      <td>8</td>\n",
       "      <td>2020</td>\n",
       "    </tr>\n",
       "    <tr>\n",
       "      <th>10500</th>\n",
       "      <td>2020-08-23</td>\n",
       "      <td>Eritrea</td>\n",
       "      <td>AFRO</td>\n",
       "      <td>0</td>\n",
       "      <td>306</td>\n",
       "      <td>0</td>\n",
       "      <td>0</td>\n",
       "      <td>8</td>\n",
       "      <td>2020</td>\n",
       "    </tr>\n",
       "    <tr>\n",
       "      <th>30465</th>\n",
       "      <td>2020-08-23</td>\n",
       "      <td>Seychelles</td>\n",
       "      <td>AFRO</td>\n",
       "      <td>0</td>\n",
       "      <td>127</td>\n",
       "      <td>0</td>\n",
       "      <td>0</td>\n",
       "      <td>8</td>\n",
       "      <td>2020</td>\n",
       "    </tr>\n",
       "  </tbody>\n",
       "</table>\n",
       "</div>"
      ],
      "text/plain": [
       "      Date_reported                      Country WHO_region  New_cases  \\\n",
       "27951    2020-08-23                      Réunion       AFRO         42   \n",
       "19396    2020-08-23                      Lesotho       AFRO          0   \n",
       "6783     2020-08-23                         Chad       AFRO          1   \n",
       "29782    2020-08-23        Sao Tome and Principe       AFRO          1   \n",
       "35308    2020-08-23  United Republic of Tanzania       AFRO          0   \n",
       "5549     2020-08-23                      Burundi       AFRO          1   \n",
       "7476     2020-08-23                      Comoros       AFRO         11   \n",
       "21728    2020-08-23                    Mauritius       AFRO          0   \n",
       "10500    2020-08-23                      Eritrea       AFRO          0   \n",
       "30465    2020-08-23                   Seychelles       AFRO          0   \n",
       "\n",
       "       Cumulative_cases  New_deaths  Cumulative_deaths  month  year  \n",
       "27951              1117           1                  6      8  2020  \n",
       "19396              1015           0                 30      8  2020  \n",
       "6783                982           0                 76      8  2020  \n",
       "29782               892           0                 15      8  2020  \n",
       "35308               509           0                 21      8  2020  \n",
       "5549                430           0                  1      8  2020  \n",
       "7476                417           0                  7      8  2020  \n",
       "21728               346           0                 10      8  2020  \n",
       "10500               306           0                  0      8  2020  \n",
       "30465               127           0                  0      8  2020  "
      ]
     },
     "execution_count": 17,
     "metadata": {},
     "output_type": "execute_result"
    }
   ],
   "source": [
    "bottom10 = sorted.tail(10)\n",
    "bottom10"
   ]
  },
  {
   "cell_type": "markdown",
   "metadata": {},
   "source": [
    "Remarks - south africa seems to be most affected... Obviously the total number does not tell the whole story.A look at cases per capita would be more significant, but a glance at the population figures shows that the most populated countries do not necessarily have most cases (Indeed, South africa is 6th on the continent, https://en.wikipedia.org/wiki/List_of_African_countries_by_population) . Also a point to note is that the picture migh reflect the capacity for testing rather than the actual numbers. For the sake of simplicity, we will use the data we have, keeping in mind those caveats as we draw conclusions."
   ]
  },
  {
   "cell_type": "code",
   "execution_count": 18,
   "metadata": {},
   "outputs": [],
   "source": [
    "# extract tables from wikipedia\n",
    "page ='https://en.wikipedia.org/wiki/List_of_African_countries_by_population'"
   ]
  },
  {
   "cell_type": "code",
   "execution_count": 19,
   "metadata": {},
   "outputs": [
    {
     "data": {
      "text/html": [
       "<div>\n",
       "<style scoped>\n",
       "    .dataframe tbody tr th:only-of-type {\n",
       "        vertical-align: middle;\n",
       "    }\n",
       "\n",
       "    .dataframe tbody tr th {\n",
       "        vertical-align: top;\n",
       "    }\n",
       "\n",
       "    .dataframe thead th {\n",
       "        text-align: right;\n",
       "    }\n",
       "</style>\n",
       "<table border=\"1\" class=\"dataframe\">\n",
       "  <thead>\n",
       "    <tr style=\"text-align: right;\">\n",
       "      <th></th>\n",
       "      <th>Rank</th>\n",
       "      <th>Country(or dependent territory)</th>\n",
       "      <th>Officialfigure(whereavailable)</th>\n",
       "      <th>Date oflast figure</th>\n",
       "      <th>Source</th>\n",
       "    </tr>\n",
       "  </thead>\n",
       "  <tbody>\n",
       "    <tr>\n",
       "      <th>0</th>\n",
       "      <td>1.0</td>\n",
       "      <td>Nigeria</td>\n",
       "      <td>206139589</td>\n",
       "      <td>2020</td>\n",
       "      <td>Worldometers[3]</td>\n",
       "    </tr>\n",
       "    <tr>\n",
       "      <th>1</th>\n",
       "      <td>2.0</td>\n",
       "      <td>Ethiopia</td>\n",
       "      <td>114963588</td>\n",
       "      <td>2020</td>\n",
       "      <td>Worldometers</td>\n",
       "    </tr>\n",
       "    <tr>\n",
       "      <th>2</th>\n",
       "      <td>3.0</td>\n",
       "      <td>Egypt</td>\n",
       "      <td>102334404</td>\n",
       "      <td>2020</td>\n",
       "      <td>Worldmeters</td>\n",
       "    </tr>\n",
       "    <tr>\n",
       "      <th>3</th>\n",
       "      <td>4.0</td>\n",
       "      <td>Democratic Republic of the Congo</td>\n",
       "      <td>89561403</td>\n",
       "      <td>2020</td>\n",
       "      <td>Worldmeters</td>\n",
       "    </tr>\n",
       "    <tr>\n",
       "      <th>4</th>\n",
       "      <td>5.0</td>\n",
       "      <td>Tanzania</td>\n",
       "      <td>59734218</td>\n",
       "      <td>2020</td>\n",
       "      <td>Worldometers</td>\n",
       "    </tr>\n",
       "    <tr>\n",
       "      <th>5</th>\n",
       "      <td>6.0</td>\n",
       "      <td>South Africa</td>\n",
       "      <td>59622350</td>\n",
       "      <td>July 1, 2020</td>\n",
       "      <td>Official estimate</td>\n",
       "    </tr>\n",
       "    <tr>\n",
       "      <th>6</th>\n",
       "      <td>7.0</td>\n",
       "      <td>Kenya</td>\n",
       "      <td>47564296</td>\n",
       "      <td>2019</td>\n",
       "      <td>Official estimate</td>\n",
       "    </tr>\n",
       "    <tr>\n",
       "      <th>7</th>\n",
       "      <td>8.0</td>\n",
       "      <td>Uganda</td>\n",
       "      <td>45741007</td>\n",
       "      <td>July,13, 2020</td>\n",
       "      <td>https://www.worldometers.info</td>\n",
       "    </tr>\n",
       "    <tr>\n",
       "      <th>8</th>\n",
       "      <td>9.0</td>\n",
       "      <td>Algeria</td>\n",
       "      <td>43000420</td>\n",
       "      <td>January 1, 2019</td>\n",
       "      <td>Official estimate</td>\n",
       "    </tr>\n",
       "    <tr>\n",
       "      <th>9</th>\n",
       "      <td>10.0</td>\n",
       "      <td>Sudan</td>\n",
       "      <td>42268269</td>\n",
       "      <td>January 25, 2020</td>\n",
       "      <td>Official population clock</td>\n",
       "    </tr>\n",
       "  </tbody>\n",
       "</table>\n",
       "</div>"
      ],
      "text/plain": [
       "   Rank   Country(or dependent territory)  Officialfigure(whereavailable)  \\\n",
       "0   1.0                           Nigeria                       206139589   \n",
       "1   2.0                          Ethiopia                       114963588   \n",
       "2   3.0                             Egypt                       102334404   \n",
       "3   4.0  Democratic Republic of the Congo                        89561403   \n",
       "4   5.0                          Tanzania                        59734218   \n",
       "5   6.0                      South Africa                        59622350   \n",
       "6   7.0                             Kenya                        47564296   \n",
       "7   8.0                            Uganda                        45741007   \n",
       "8   9.0                           Algeria                        43000420   \n",
       "9  10.0                             Sudan                        42268269   \n",
       "\n",
       "  Date oflast figure                         Source  \n",
       "0               2020                Worldometers[3]  \n",
       "1               2020                   Worldometers  \n",
       "2               2020                    Worldmeters  \n",
       "3               2020                    Worldmeters  \n",
       "4               2020                   Worldometers  \n",
       "5       July 1, 2020              Official estimate  \n",
       "6               2019              Official estimate  \n",
       "7      July,13, 2020  https://www.worldometers.info  \n",
       "8    January 1, 2019              Official estimate  \n",
       "9   January 25, 2020      Official population clock  "
      ]
     },
     "execution_count": 19,
     "metadata": {},
     "output_type": "execute_result"
    }
   ],
   "source": [
    "population = read_wikipedia_table(page)\n",
    "population.head(10) "
   ]
  },
  {
   "cell_type": "code",
   "execution_count": 20,
   "metadata": {},
   "outputs": [
    {
     "data": {
      "text/html": [
       "<div>\n",
       "<style scoped>\n",
       "    .dataframe tbody tr th:only-of-type {\n",
       "        vertical-align: middle;\n",
       "    }\n",
       "\n",
       "    .dataframe tbody tr th {\n",
       "        vertical-align: top;\n",
       "    }\n",
       "\n",
       "    .dataframe thead th {\n",
       "        text-align: right;\n",
       "    }\n",
       "</style>\n",
       "<table border=\"1\" class=\"dataframe\">\n",
       "  <thead>\n",
       "    <tr style=\"text-align: right;\">\n",
       "      <th></th>\n",
       "      <th>Rank</th>\n",
       "      <th>Country(or dependent territory)</th>\n",
       "      <th>Officialfigure(whereavailable)</th>\n",
       "      <th>Date oflast figure</th>\n",
       "      <th>Source</th>\n",
       "    </tr>\n",
       "  </thead>\n",
       "  <tbody>\n",
       "    <tr>\n",
       "      <th>0</th>\n",
       "      <td>1.0</td>\n",
       "      <td>Nigeria</td>\n",
       "      <td>206139589</td>\n",
       "      <td>2020</td>\n",
       "      <td>Worldometers[3]</td>\n",
       "    </tr>\n",
       "    <tr>\n",
       "      <th>1</th>\n",
       "      <td>2.0</td>\n",
       "      <td>Ethiopia</td>\n",
       "      <td>114963588</td>\n",
       "      <td>2020</td>\n",
       "      <td>Worldometers</td>\n",
       "    </tr>\n",
       "    <tr>\n",
       "      <th>5</th>\n",
       "      <td>6.0</td>\n",
       "      <td>South Africa</td>\n",
       "      <td>59622350</td>\n",
       "      <td>July 1, 2020</td>\n",
       "      <td>Official estimate</td>\n",
       "    </tr>\n",
       "    <tr>\n",
       "      <th>6</th>\n",
       "      <td>7.0</td>\n",
       "      <td>Kenya</td>\n",
       "      <td>47564296</td>\n",
       "      <td>2019</td>\n",
       "      <td>Official estimate</td>\n",
       "    </tr>\n",
       "    <tr>\n",
       "      <th>8</th>\n",
       "      <td>9.0</td>\n",
       "      <td>Algeria</td>\n",
       "      <td>43000420</td>\n",
       "      <td>January 1, 2019</td>\n",
       "      <td>Official estimate</td>\n",
       "    </tr>\n",
       "    <tr>\n",
       "      <th>12</th>\n",
       "      <td>13.0</td>\n",
       "      <td>Ghana</td>\n",
       "      <td>31072940</td>\n",
       "      <td>2020</td>\n",
       "      <td>Official estimate</td>\n",
       "    </tr>\n",
       "    <tr>\n",
       "      <th>16</th>\n",
       "      <td>17.0</td>\n",
       "      <td>Madagascar</td>\n",
       "      <td>22434363</td>\n",
       "      <td>2014</td>\n",
       "      <td>Official estimate</td>\n",
       "    </tr>\n",
       "    <tr>\n",
       "      <th>17</th>\n",
       "      <td>18.0</td>\n",
       "      <td>Cameroon</td>\n",
       "      <td>21917602</td>\n",
       "      <td>2015</td>\n",
       "      <td>Official estimate</td>\n",
       "    </tr>\n",
       "    <tr>\n",
       "      <th>23</th>\n",
       "      <td>24.0</td>\n",
       "      <td>Senegal</td>\n",
       "      <td>14354690</td>\n",
       "      <td>2015</td>\n",
       "      <td>Official estimate</td>\n",
       "    </tr>\n",
       "  </tbody>\n",
       "</table>\n",
       "</div>"
      ],
      "text/plain": [
       "    Rank Country(or dependent territory)  Officialfigure(whereavailable)  \\\n",
       "0    1.0                         Nigeria                       206139589   \n",
       "1    2.0                        Ethiopia                       114963588   \n",
       "5    6.0                    South Africa                        59622350   \n",
       "6    7.0                           Kenya                        47564296   \n",
       "8    9.0                         Algeria                        43000420   \n",
       "12  13.0                           Ghana                        31072940   \n",
       "16  17.0                      Madagascar                        22434363   \n",
       "17  18.0                        Cameroon                        21917602   \n",
       "23  24.0                         Senegal                        14354690   \n",
       "\n",
       "   Date oflast figure             Source  \n",
       "0                2020    Worldometers[3]  \n",
       "1                2020       Worldometers  \n",
       "5        July 1, 2020  Official estimate  \n",
       "6                2019  Official estimate  \n",
       "8     January 1, 2019  Official estimate  \n",
       "12               2020  Official estimate  \n",
       "16               2014  Official estimate  \n",
       "17               2015  Official estimate  \n",
       "23               2015  Official estimate  "
      ]
     },
     "execution_count": 20,
     "metadata": {},
     "output_type": "execute_result"
    }
   ],
   "source": [
    "#countries with more cases but less people\n",
    "#df of top countries \n",
    "population[population['Country(or dependent territory)'].isin (top10.Country)]"
   ]
  },
  {
   "cell_type": "markdown",
   "metadata": {},
   "source": [
    "# More plot - top 10"
   ]
  },
  {
   "cell_type": "code",
   "execution_count": 21,
   "metadata": {},
   "outputs": [
    {
     "data": {
      "text/plain": [
       "31660     South Africa\n",
       "24598          Nigeria\n",
       "13105            Ghana\n",
       "530            Algeria\n",
       "11005         Ethiopia\n",
       "18276            Kenya\n",
       "6087          Cameroon\n",
       "7972     Côte d’Ivoire\n",
       "20390       Madagascar\n",
       "30132          Senegal\n",
       "Name: Country, dtype: object"
      ]
     },
     "execution_count": 21,
     "metadata": {},
     "output_type": "execute_result"
    }
   ],
   "source": [
    "df_top10 = df_africa[df_africa.Country.isin (top10.Country)]\n",
    "df_top10.Country.unique()\n",
    "top10.Country"
   ]
  },
  {
   "cell_type": "code",
   "execution_count": 22,
   "metadata": {},
   "outputs": [
    {
     "data": {
      "image/png": "[encoded data removed]",
      "text/plain": [
       "<Figure size 1080x576 with 1 Axes>"
      ]
     },
     "metadata": {
      "needs_background": "light"
     },
     "output_type": "display_data"
    }
   ],
   "source": [
    "#top ten news cases time series   \n",
    "visualize_with_plot('Top Ten Trends', df_top10, 'Date_reported', 'New_cases', 'Date Reported','New Cases')     "
   ]
  },
  {
   "cell_type": "markdown",
   "metadata": {},
   "source": [
    " Exclude South Africa"
   ]
  },
  {
   "cell_type": "code",
   "execution_count": 23,
   "metadata": {},
   "outputs": [
    {
     "name": "stderr",
     "output_type": "stream",
     "text": [
      "/Applications/anaconda3/lib/python3.7/site-packages/ipykernel_launcher.py:2: UserWarning:\n",
      "\n",
      "Boolean Series key will be reindexed to match DataFrame index.\n",
      "\n"
     ]
    },
    {
     "data": {
      "image/png": "[encoded data removed]",
      "text/plain": [
       "<Figure size 1080x576 with 1 Axes>"
      ]
     },
     "metadata": {
      "needs_background": "light"
     },
     "output_type": "display_data"
    }
   ],
   "source": [
    "#Minus sa and show per month\n",
    "minus_sa = df_top10[df.Country != 'South Africa']\n",
    "visualize_with_plot('Minus South Africa', minus_sa, 'month', 'New_cases', 'Date Reported','New Cases')     "
   ]
  },
  {
   "cell_type": "markdown",
   "metadata": {},
   "source": [
    "Most contries seem to have picked - Except Ethiopia. Zoom into Ethiopia - \n",
    "Use date reported"
   ]
  },
  {
   "cell_type": "code",
   "execution_count": 24,
   "metadata": {},
   "outputs": [
    {
     "name": "stderr",
     "output_type": "stream",
     "text": [
      "/Applications/anaconda3/lib/python3.7/site-packages/ipykernel_launcher.py:1: UserWarning:\n",
      "\n",
      "Boolean Series key will be reindexed to match DataFrame index.\n",
      "\n"
     ]
    },
    {
     "data": {
      "image/png": "[encoded data removed]",
      "text/plain": [
       "<Figure size 1080x576 with 1 Axes>"
      ]
     },
     "metadata": {
      "needs_background": "light"
     },
     "output_type": "display_data"
    }
   ],
   "source": [
    "visualize_with_plot('Ethipia', df_top10[df.Country == 'Ethiopia'], 'Date_reported', 'New_cases', 'Date Reported','New Cases')     "
   ]
  },
  {
   "cell_type": "code",
   "execution_count": null,
   "metadata": {},
   "outputs": [],
   "source": []
  },
  {
   "cell_type": "markdown",
   "metadata": {},
   "source": [
    "Might have peaked as well"
   ]
  },
  {
   "cell_type": "markdown",
   "metadata": {},
   "source": [
    "# Results Evaluation"
   ]
  },
  {
   "cell_type": "markdown",
   "metadata": {},
   "source": [
    "At a glance, South Africa seems to be the most affected country on the continent. \n",
    "Obviously the total number does not tell the whole story.A look at cases per capita would be more significant, but a glance at the population figures shows that the most populated countries do not necessarily have most cases (Indeed, South africa is 6th on the continent, https://en.wikipedia.org/wiki/List_of_African_countries_by_population) . Also a point to note is that the picture might reflect the capacity for testing rather than the actual numbers. For the sake of simplicity, we will use the data we have, keeping in mind those caveats as we draw conclusions.\n",
    "Also, most countries have peaked, except Ethiopia (viewed on a monthly scale), but as we approach the end of August, we see some downwards trends.\n"
   ]
  },
  {
   "cell_type": "markdown",
   "metadata": {},
   "source": [
    "# Conclusion"
   ]
  },
  {
   "cell_type": "markdown",
   "metadata": {},
   "source": [
    "Like the rest of the world, Africa has been affected by the current pandemic and is fighting hard to contain the situation. But unlike developed countries, most countries on the continent do not have the necessary resources and infrastructure required to face such a highly contagious and fatal virus. Luckily, there were already established organizations and tools that were used to improve health outcomes in other areas which were quick to respond to the challenge. In particular, Medic mobile was able to configure their existing Community Health Kit to create apps that are being used for case management and contact tracing, in collaboration with other players in the digital health space such as Dumagi."
   ]
  },
  {
   "cell_type": "code",
   "execution_count": null,
   "metadata": {},
   "outputs": [],
   "source": []
  },
  {
   "cell_type": "markdown",
   "metadata": {},
   "source": [
    "# References"
   ]
  },
  {
   "cell_type": "markdown",
   "metadata": {},
   "source": [
    "[WHO Coronavirus Disease (COVID-19) Dashboard\n",
    "COVID-19: Africa needs unprecedented attention to strengthen community health systems](https://covid19.who.int/)"
   ]
  },
  {
   "cell_type": "markdown",
   "metadata": {},
   "source": [
    "[Africa: Covid-19 Exposes Healthcare Shortfalls\n",
    "Prioritize Investment to Improve Access to Care for All](https://www.thelancet.com/journals/lancet/article/PIIS0140-6736(20)31532-4/fulltext)"
   ]
  },
  {
   "cell_type": "markdown",
   "metadata": {},
   "source": [
    "[African Union rolls out Partnership to Accelerate COVID-19 Testing\n",
    "Inform WHO and USAID of Your Digital Health Solution for COVID-19 Response](https://www.hrw.org/news/2020/06/08/africa-covid-19-exposes-healthcare-shortfalls)"
   ]
  },
  {
   "cell_type": "markdown",
   "metadata": {},
   "source": [
    "[African Union rolls out Partnership to Accelerate COVID-19 Testing](https://africacdc.org/news-item/african-union-rolls-out-partnership-to-accelerate-covid-19-testing)"
   ]
  },
  {
   "cell_type": "markdown",
   "metadata": {},
   "source": [
    "[Inform WHO and USAID of Your Digital Health Solution for COVID-19 Response](https://www.ictworks.org/who-usaid-digital-health-solution-covid-19)"
   ]
  }
 ],
 "metadata": {
  "kernelspec": {
   "display_name": "Python 3",
   "language": "python",
   "name": "python3"
  },
  "language_info": {
   "codemirror_mode": {
    "name": "ipython",
    "version": 3
   },
   "file_extension": ".py",
   "mimetype": "text/x-python",
   "name": "python",
   "nbconvert_exporter": "python",
   "pygments_lexer": "ipython3",
   "version": "3.7.4"
  }
 },
 "nbformat": 4,
 "nbformat_minor": 4
}
